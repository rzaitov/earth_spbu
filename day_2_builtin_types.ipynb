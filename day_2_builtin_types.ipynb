{
 "cells": [
  {
   "cell_type": "code",
   "execution_count": 4,
   "metadata": {},
   "outputs": [
    {
     "name": "stdout",
     "output_type": "stream",
     "text": [
      "33 <class 'int'>\n",
      "9.8 <class 'float'>\n",
      "Rustam <class 'str'>\n"
     ]
    }
   ],
   "source": [
    "# В Python есть типы. Ниже примеры:\n",
    "age = 33\n",
    "g = 9.8\n",
    "name = \"Rustam\"\n",
    "\n",
    "# узнать тип можно встроенного метода type\n",
    "print(age, type(age))\n",
    "print(g, type(g))\n",
    "print(name, type(name))"
   ]
  },
  {
   "cell_type": "code",
   "execution_count": 29,
   "metadata": {},
   "outputs": [
    {
     "name": "stdout",
     "output_type": "stream",
     "text": [
      "<class 'str'>\n",
      "<class 'int'>\n"
     ]
    }
   ],
   "source": [
    "# Python является динамическим языком, что означает что переменная может ссылаться на значения разных типов\n",
    "my_var = \"hello\"\n",
    "print(type(my_var))\n",
    "my_var = 100500\n",
    "print(type(my_var))"
   ]
  },
  {
   "cell_type": "markdown",
   "metadata": {},
   "source": [
    "## List. Список"
   ]
  },
  {
   "cell_type": "code",
   "execution_count": 30,
   "metadata": {},
   "outputs": [
    {
     "name": "stdout",
     "output_type": "stream",
     "text": [
      "[1, 2, 3, 100]\n"
     ]
    }
   ],
   "source": [
    "# В Python есть еще различного рода коллекции/последовательности\n",
    "number_list = [1, 2, 3, 100]\n",
    "print(number_list)"
   ]
  },
  {
   "cell_type": "code",
   "execution_count": 31,
   "metadata": {},
   "outputs": [
    {
     "name": "stdout",
     "output_type": "stream",
     "text": [
      "1\n",
      "2\n",
      "-----\n",
      "100\n",
      "3\n"
     ]
    }
   ],
   "source": [
    "# Можно получать элемент по индексу. Индексирование начинается с нуля, а не единицы\n",
    "print(number_list[0]) # первый элемент списка\n",
    "print(number_list[1]) # второй элемент списка\n",
    "\n",
    "print(\"-----\")\n",
    "\n",
    "# отрицательный индекс означает отсчет с конца\n",
    "print(number_list[-1]) # последний элемент\n",
    "print(number_list[-2]) # предпоследний элемент"
   ]
  },
  {
   "cell_type": "code",
   "execution_count": 32,
   "metadata": {},
   "outputs": [
    {
     "name": "stdout",
     "output_type": "stream",
     "text": [
      "1\n",
      "2\n",
      "3\n",
      "100\n"
     ]
    }
   ],
   "source": [
    "# поэлементный обход списка\n",
    "for item in number_list:\n",
    "    print(item) \n"
   ]
  },
  {
   "cell_type": "code",
   "execution_count": 33,
   "metadata": {},
   "outputs": [
    {
     "name": "stdout",
     "output_type": "stream",
     "text": [
      "106\n"
     ]
    }
   ],
   "source": [
    "# Задание: найти сумму элементов\n",
    "# Ответ:\n",
    "sum = 0\n",
    "for item in number_list:\n",
    "    sum += item\n",
    "print(sum)"
   ]
  },
  {
   "cell_type": "code",
   "execution_count": 34,
   "metadata": {},
   "outputs": [
    {
     "name": "stdout",
     "output_type": "stream",
     "text": [
      "4\n"
     ]
    }
   ],
   "source": [
    "# узнать размер списка можно с помощью метода встроенного метода len\n",
    "print(len(number_list))"
   ]
  },
  {
   "cell_type": "code",
   "execution_count": 35,
   "metadata": {},
   "outputs": [
    {
     "name": "stdout",
     "output_type": "stream",
     "text": [
      "600\n"
     ]
    }
   ],
   "source": [
    "# Объход списка с помощью индексов\n",
    "mul = 1\n",
    "for i in range(len(number_list)):\n",
    "    mul *= number_list[i]\n",
    "print(mul)\n",
    "\n",
    "# Объяснение того, что происходит:\n",
    "# for i in range(len(number_list))\n",
    "# for i in range(4)\n",
    "# for i in (0, 1, 2, 3)"
   ]
  },
  {
   "cell_type": "code",
   "execution_count": 36,
   "metadata": {},
   "outputs": [
    {
     "name": "stdout",
     "output_type": "stream",
     "text": [
      "[1, 2, 3, 4, 5, 6]\n"
     ]
    }
   ],
   "source": [
    "# конкатенация/сложение списков\n",
    "print([1, 2, 3] + [4, 5, 6])"
   ]
  },
  {
   "cell_type": "code",
   "execution_count": 37,
   "metadata": {},
   "outputs": [
    {
     "name": "stdout",
     "output_type": "stream",
     "text": [
      "[1, 2, 3, 1, 2, 3, 1, 2, 3]\n"
     ]
    }
   ],
   "source": [
    "# повторение списка\n",
    "print([1, 2, 3] * 3)"
   ]
  },
  {
   "cell_type": "code",
   "execution_count": 38,
   "metadata": {},
   "outputs": [
    {
     "name": "stdout",
     "output_type": "stream",
     "text": [
      "True\n",
      "False\n"
     ]
    }
   ],
   "source": [
    "# проверка наличия элемента в списке\n",
    "print(2 in number_list)\n",
    "print(0 in number_list)"
   ]
  },
  {
   "cell_type": "code",
   "execution_count": 39,
   "metadata": {},
   "outputs": [
    {
     "ename": "SyntaxError",
     "evalue": "invalid syntax (<ipython-input-39-08d3c4a25e54>, line 4)",
     "output_type": "error",
     "traceback": [
      "\u001b[0;36m  File \u001b[0;32m\"<ipython-input-39-08d3c4a25e54>\"\u001b[0;36m, line \u001b[0;32m4\u001b[0m\n\u001b[0;31m    number_list. # нажать клавишу Tab\u001b[0m\n\u001b[0m                                     ^\u001b[0m\n\u001b[0;31mSyntaxError\u001b[0m\u001b[0;31m:\u001b[0m invalid syntax\n"
     ]
    }
   ],
   "source": [
    "# Python – объектноориентированный язык программирования\n",
    "# что означает что у переменных определенного типа есть методы\n",
    "# вывести подсказку какие методы доступны для number_list\n",
    "number_list. # нажать клавишу Tab"
   ]
  },
  {
   "cell_type": "code",
   "execution_count": 57,
   "metadata": {},
   "outputs": [
    {
     "data": {
      "text/plain": [
       "[1, 2, 3]"
      ]
     },
     "execution_count": 57,
     "metadata": {},
     "output_type": "execute_result"
    }
   ],
   "source": [
    "# TODO: slicing\n",
    "number_list[0: 3]"
   ]
  },
  {
   "cell_type": "code",
   "execution_count": null,
   "metadata": {},
   "outputs": [],
   "source": [
    "# TODO: string slicing\n",
    "# показать что со строками можно работать как со списком символов"
   ]
  },
  {
   "cell_type": "markdown",
   "metadata": {},
   "source": [
    "## Числа"
   ]
  },
  {
   "cell_type": "code",
   "execution_count": 47,
   "metadata": {},
   "outputs": [],
   "source": [
    "import math"
   ]
  },
  {
   "cell_type": "code",
   "execution_count": 42,
   "metadata": {},
   "outputs": [
    {
     "name": "stdout",
     "output_type": "stream",
     "text": [
      "30 <class 'int'>\n",
      "30.5 <class 'float'>\n",
      "100.0 <class 'float'>\n"
     ]
    }
   ],
   "source": [
    "# челое число\n",
    "age = 30\n",
    "print(age, type(age))\n",
    "\n",
    "# число с плавующей точкой\n",
    "price = 30.5\n",
    "print(price, type(price))\n",
    "\n",
    "# температура кипения воды\n",
    "boil_temp = 100.0\n",
    "print(boil_temp, type(boil_temp))"
   ]
  },
  {
   "cell_type": "code",
   "execution_count": 55,
   "metadata": {},
   "outputs": [
    {
     "name": "stdout",
     "output_type": "stream",
     "text": [
      "inf\n",
      "inf\n",
      "inf\n"
     ]
    }
   ],
   "source": [
    "# у типа float есть специальное значение, которое кодирует \"бесконечноать\"\n",
    "print(math.inf)\n",
    "print(math.inf + 10)\n",
    "print(math.inf - 100500)"
   ]
  },
  {
   "cell_type": "code",
   "execution_count": 52,
   "metadata": {},
   "outputs": [
    {
     "name": "stdout",
     "output_type": "stream",
     "text": [
      "nan\n",
      "nan\n",
      "nan\n",
      "nan\n"
     ]
    }
   ],
   "source": [
    "# у типа float есть специальное значение NaN – которое обозначает Not a Number\n",
    "# т.е. число, которое не является числом. WTF ???\n",
    "print(math.nan)\n",
    "\n",
    "# Такое \"число\" получается вследствие вычислений которые не имеют смысла\n",
    "print(0 * math.inf)\n",
    "print(math.inf - math.inf)\n",
    "print(math.inf / math.inf)"
   ]
  },
  {
   "cell_type": "markdown",
   "metadata": {},
   "source": [
    "## List. Список"
   ]
  },
  {
   "cell_type": "code",
   "execution_count": null,
   "metadata": {},
   "outputs": [],
   "source": [
    "number_list.append(500)\n",
    "print(number_list)"
   ]
  },
  {
   "cell_type": "code",
   "execution_count": null,
   "metadata": {},
   "outputs": [],
   "source": [
    "number_list.remove(2)\n",
    "print(number_list)"
   ]
  },
  {
   "cell_type": "markdown",
   "metadata": {},
   "source": [
    "## Dictionary. Словарь"
   ]
  },
  {
   "cell_type": "code",
   "execution_count": null,
   "metadata": {},
   "outputs": [],
   "source": [
    "scores = { \"rustam\": 5, \"artem\": 5, \"ananiev\": 2, \"ashot\": 4, \"valentin\": 3 }\n",
    "print(scores[\"rustam\"])\n",
    "print(scores[\"ananiev\"])\n",
    "\n",
    "\n",
    "# Подумать: в чем отличие списка от словаря?\n",
    "# Ответ: с точки зрения использования список – это словарь с последовательным числовым индексом (точно понятно что имеется в виду?)\n",
    "\n",
    "# Привести примеры когда может пригодиться словарь\n",
    "# Словари нужны когда необходимо хранить соответствия. Примеры соответствий\n",
    "# страна – столица\n",
    "# специальность – зарплата\n",
    "# фильм - рейтинг"
   ]
  },
  {
   "cell_type": "code",
   "execution_count": null,
   "metadata": {},
   "outputs": [],
   "source": []
  }
 ],
 "metadata": {
  "kernelspec": {
   "display_name": "Python 3",
   "language": "python",
   "name": "python3"
  },
  "language_info": {
   "codemirror_mode": {
    "name": "ipython",
    "version": 3
   },
   "file_extension": ".py",
   "mimetype": "text/x-python",
   "name": "python",
   "nbconvert_exporter": "python",
   "pygments_lexer": "ipython3",
   "version": "3.6.5"
  }
 },
 "nbformat": 4,
 "nbformat_minor": 2
}
