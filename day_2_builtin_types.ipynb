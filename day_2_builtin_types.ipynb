{
 "cells": [
  {
   "cell_type": "markdown",
   "metadata": {},
   "source": [
    "## Метод type"
   ]
  },
  {
   "cell_type": "code",
   "execution_count": 1,
   "metadata": {},
   "outputs": [
    {
     "name": "stdout",
     "output_type": "stream",
     "text": [
      "Rustam <class 'str'>\n",
      "33 <class 'int'>\n",
      "9.8 <class 'float'>\n"
     ]
    }
   ],
   "source": [
    "# В Python есть типы. Ниже примеры:\n",
    "name = \"Rustam\"\n",
    "age = 33\n",
    "g = 9.8\n",
    "\n",
    "# узнать тип можно встроенного метода type\n",
    "print(name, type(name))\n",
    "print(age, type(age))\n",
    "print(g, type(g))\n",
    "\n",
    "# Обратить внимание на что в Python есть несколько числовых типов:\n",
    "# int – целочисленный тип\n",
    "# float – число с дробной частью"
   ]
  },
  {
   "cell_type": "markdown",
   "metadata": {},
   "source": [
    "## int vs float"
   ]
  },
  {
   "cell_type": "code",
   "execution_count": 2,
   "metadata": {},
   "outputs": [
    {
     "name": "stdout",
     "output_type": "stream",
     "text": [
      "inf\n",
      "nan\n"
     ]
    }
   ],
   "source": [
    "# С целыми числами все более менее ясно, а у не целых есть ряд особенностей\n",
    "# существует два специальных числа типа float – это inf и nan\n",
    "import math\n",
    "\n",
    "print(math.inf) # характеризует бесконечно большое число\n",
    "print(math.nan) # nan – Not a Number, т.е. число которое не является числом. WTF ???"
   ]
  },
  {
   "cell_type": "code",
   "execution_count": 3,
   "metadata": {},
   "outputs": [
    {
     "name": "stdout",
     "output_type": "stream",
     "text": [
      "inf\n",
      "inf\n",
      "inf\n",
      "inf\n",
      "inf\n"
     ]
    }
   ],
   "source": [
    "# Если к бесконечности прибавить конечное число, то получим опять бесконечность\n",
    "# Аналогично если вычесть из бесконечности конечное число, то получим бесконечность\n",
    "print(math.inf)\n",
    "print(math.inf + 10)\n",
    "print(math.inf - 100500)\n",
    "\n",
    "# Если сложить две бесконечности то будет опять бесконечность\n",
    "print(math.inf + math.inf)\n",
    "\n",
    "# Бесконечность можно умножить на конечное число. Что получим? Бесконечноать\n",
    "print(math.inf * 5)\n",
    "\n",
    "# Тут важно обратить внимание что inf характеризует именно концепцию \"бесконечность\",\n",
    "# никакого числа \"бесконечность\" конечно же не существует."
   ]
  },
  {
   "cell_type": "code",
   "execution_count": 4,
   "metadata": {},
   "outputs": [
    {
     "name": "stdout",
     "output_type": "stream",
     "text": [
      "nan\n"
     ]
    }
   ],
   "source": [
    "# Подумать что может быть результатом?\n",
    "# Варианты: ноль, ошибка или какое-то еще специальное число\n",
    "\n",
    "# Ноль не должен получится, т.к. inf – не является конечным числом, \n",
    "# т.е. мы из одного бесконечно большого числа вычитаем другое бесконечно большое число\n",
    "# Это значит мы не можем получить конечное число\n",
    "\n",
    "print(math.inf - math.inf)\n",
    "\n",
    "# Мы получаем nan – т.е. Not a Number. Это еще одно специальное число, которое получается при вычислениях, которые не имеют смысла"
   ]
  },
  {
   "cell_type": "code",
   "execution_count": 5,
   "metadata": {},
   "outputs": [
    {
     "name": "stdout",
     "output_type": "stream",
     "text": [
      "nan\n",
      "nan\n",
      "nan\n",
      "nan\n",
      "nan\n"
     ]
    }
   ],
   "source": [
    "# Примеры с nan\n",
    "# Если подумать, то результаты ниже должны показаться логичными\n",
    "print(math.nan + 10)\n",
    "print(math.nan * 5)\n",
    "print(math.nan + math.nan)\n",
    "print(math.inf - math.inf)\n",
    "print(math.inf * 0)"
   ]
  },
  {
   "cell_type": "markdown",
   "metadata": {},
   "source": [
    "Еще nan часто используется там где ожидается число, но никакого значения нет. Например, часто встречается в таблицах с данными, если данные отсутствуют"
   ]
  },
  {
   "cell_type": "markdown",
   "metadata": {},
   "source": [
    "## List. Список"
   ]
  },
  {
   "cell_type": "markdown",
   "metadata": {},
   "source": [
    "В Python есть тип список, который похож на массив в других языказ программирования"
   ]
  },
  {
   "cell_type": "code",
   "execution_count": 6,
   "metadata": {},
   "outputs": [
    {
     "name": "stdout",
     "output_type": "stream",
     "text": [
      "[]\n"
     ]
    }
   ],
   "source": [
    "# Создание пустого списка\n",
    "# С задних парт вообще не видно что на экране происходит, \n",
    "# поэтому мне кажется стоит проговорить, что список создается с помощью квадратных скобок [], а не круглых или фигурных\n",
    "empty_list = []\n",
    "print(empty_list)"
   ]
  },
  {
   "cell_type": "code",
   "execution_count": 7,
   "metadata": {},
   "outputs": [
    {
     "name": "stdout",
     "output_type": "stream",
     "text": [
      "[1, 2, 3, 4, 100]\n"
     ]
    }
   ],
   "source": [
    "# создание списка числе\n",
    "number_list = [1, 2, 3, 4, 100]\n",
    "print(number_list)"
   ]
  },
  {
   "cell_type": "code",
   "execution_count": 8,
   "metadata": {},
   "outputs": [
    {
     "name": "stdout",
     "output_type": "stream",
     "text": [
      "[0, 5, 9.8, nan, inf, 'hello', 'world', True, False]\n"
     ]
    }
   ],
   "source": [
    "# В список можно поместить значения разных типов.\n",
    "# Зачем так делать лично мне не очень понятно, но возможность такая есть\n",
    "# Чаще эта возможность только приводит к проблемам\n",
    "trash_list = [ 0, 5, 9.8, math.nan, math.inf, \"hello\", \"world\", True, False ]\n",
    "print(trash_list)"
   ]
  },
  {
   "cell_type": "code",
   "execution_count": 9,
   "metadata": {},
   "outputs": [
    {
     "name": "stdout",
     "output_type": "stream",
     "text": [
      "[1, 2, 3, 100]\n"
     ]
    }
   ],
   "source": [
    "# В Python есть тип список, который похож на массив в других языказ программирования\n",
    "\n",
    "number_list = [1, 2, 3, 100]\n",
    "print(number_list)"
   ]
  },
  {
   "cell_type": "code",
   "execution_count": 10,
   "metadata": {},
   "outputs": [
    {
     "name": "stdout",
     "output_type": "stream",
     "text": [
      "1\n",
      "2\n",
      "-----\n",
      "100\n",
      "3\n"
     ]
    }
   ],
   "source": [
    "# Можно получать элемент по индексу. Индексирование начинается с нуля, а не единицы\n",
    "print(number_list[0]) # первый элемент списка\n",
    "print(number_list[1]) # второй элемент списка\n",
    "\n",
    "print(\"-----\")\n",
    "\n",
    "# отрицательный индекс означает отсчет с конца\n",
    "print(number_list[-1]) # последний элемент\n",
    "print(number_list[-2]) # предпоследний элемент\n",
    "\n",
    "# Тут стоит пояснить, почему -1 означает именно последний элемент\n",
    "# Почему это так станет очевидным, если рассказать что индекс указывает на начало элемента, а не его конец:\n",
    "#\n",
    "#  \"неправильная\" картинка\n",
    "#  | a | b | c | d |\n",
    "#    0   1   2   3\n",
    "#\n",
    "#  \"правильная\" картинка\n",
    "#  | a | b | c | d |\n",
    "#  0   1   2   3   4"
   ]
  },
  {
   "cell_type": "code",
   "execution_count": 11,
   "metadata": {},
   "outputs": [
    {
     "name": "stdout",
     "output_type": "stream",
     "text": [
      "4\n"
     ]
    }
   ],
   "source": [
    "# узнать длину списка можно с помощью встроенного метода len\n",
    "print(len(number_list))"
   ]
  },
  {
   "cell_type": "code",
   "execution_count": 12,
   "metadata": {},
   "outputs": [
    {
     "name": "stdout",
     "output_type": "stream",
     "text": [
      "1\n",
      "2\n",
      "3\n",
      "100\n"
     ]
    }
   ],
   "source": [
    "# обойти список в цикле.\n",
    "# В цикле изменяем переменную i от 0 до len(number_list)\n",
    "for i in range(len(number_list)):\n",
    "    print(number_list[i]) # получаем доступ к элементу списка через индекс"
   ]
  },
  {
   "cell_type": "code",
   "execution_count": 13,
   "metadata": {},
   "outputs": [
    {
     "name": "stdout",
     "output_type": "stream",
     "text": [
      "1\n",
      "2\n",
      "3\n",
      "100\n"
     ]
    }
   ],
   "source": [
    "# более краткий вариант\n",
    "# В цикле присваиваем переменной item значения из списка\n",
    "for item in number_list:\n",
    "    print(item) \n"
   ]
  },
  {
   "cell_type": "code",
   "execution_count": 14,
   "metadata": {},
   "outputs": [
    {
     "name": "stdout",
     "output_type": "stream",
     "text": [
      "106\n"
     ]
    }
   ],
   "source": [
    "# Задание: найти сумму элементов\n",
    "# Ответ:\n",
    "total = 0\n",
    "for item in number_list:\n",
    "    total += item\n",
    "print(total)"
   ]
  },
  {
   "cell_type": "code",
   "execution_count": 15,
   "metadata": {},
   "outputs": [
    {
     "name": "stdout",
     "output_type": "stream",
     "text": [
      "106\n"
     ]
    }
   ],
   "source": [
    "# Аня предложила альтернативный вариант\n",
    "# Преимущества этого варианта:\n",
    "# * он короче и лаконичнее\n",
    "# * использует код из стандартной библиотеки => отсутствуют баги\n",
    "# Недостатки: \n",
    "# * нужно знать про существование этого метода\n",
    "print(sum(number_list))"
   ]
  },
  {
   "cell_type": "code",
   "execution_count": 16,
   "metadata": {},
   "outputs": [
    {
     "name": "stdout",
     "output_type": "stream",
     "text": [
      "[1, 2, 3, 4, 5, 6]\n"
     ]
    }
   ],
   "source": [
    "# конкатенация/сложение списков\n",
    "print([1, 2, 3] + [4, 5, 6])"
   ]
  },
  {
   "cell_type": "code",
   "execution_count": 17,
   "metadata": {},
   "outputs": [
    {
     "name": "stdout",
     "output_type": "stream",
     "text": [
      "[1, 2, 3, 1, 2, 3, 1, 2, 3]\n"
     ]
    }
   ],
   "source": [
    "# повторение списка\n",
    "print([1, 2, 3] * 3)"
   ]
  },
  {
   "cell_type": "code",
   "execution_count": 18,
   "metadata": {},
   "outputs": [
    {
     "name": "stdout",
     "output_type": "stream",
     "text": [
      "True\n",
      "False\n"
     ]
    }
   ],
   "source": [
    "# проверка наличия элемента в списке\n",
    "print(2 in number_list)\n",
    "print(0 in number_list)"
   ]
  },
  {
   "cell_type": "markdown",
   "metadata": {},
   "source": [
    "Python – объектноориентированный язык программирования\n",
    "что означает что у переменных определенного типа есть методы\n",
    "вывести подсказку какие методы доступны для number_list\n",
    "```\n",
    "number_list. # нажать клавишу Tab\n",
    "```"
   ]
  },
  {
   "cell_type": "code",
   "execution_count": 19,
   "metadata": {},
   "outputs": [
    {
     "name": "stdout",
     "output_type": "stream",
     "text": [
      "[10, 15, 20]\n",
      "[10, 15, 20, 100500]\n",
      "[10, 500, 15, 20, 100500]\n"
     ]
    }
   ],
   "source": [
    "# так например у списоков есть методы, которые позволяют добавлять или удалять элементы\n",
    "my_list = [10, 15, 20]\n",
    "print(my_list)\n",
    "\n",
    "my_list.append(100500)\n",
    "print(my_list)\n",
    "\n",
    "my_list.insert(1, 500)  # пояснить что делает этот метод\n",
    "print(my_list)"
   ]
  },
  {
   "cell_type": "code",
   "execution_count": 20,
   "metadata": {},
   "outputs": [
    {
     "name": "stdout",
     "output_type": "stream",
     "text": [
      "[10, 15, 'z', 20, 'v']\n",
      "[10, 15, 20, 'v']\n",
      "[10, 15, 20]\n"
     ]
    }
   ],
   "source": [
    "# еще есть метод удаления значения из списка\n",
    "bad_list = [ 10, 15, \"z\", 20, \"v\" ]\n",
    "print(bad_list)\n",
    "\n",
    "bad_list.remove(\"z\")\n",
    "print(bad_list)\n",
    "\n",
    "bad_list.remove(\"v\")\n",
    "print(bad_list)"
   ]
  },
  {
   "cell_type": "code",
   "execution_count": 21,
   "metadata": {},
   "outputs": [
    {
     "name": "stdout",
     "output_type": "stream",
     "text": [
      "[10, 15, 'x', 20, 'x', 30]\n",
      "[10, 15, 20, 'x', 30]\n",
      "[10, 15, 20, 30]\n"
     ]
    }
   ],
   "source": [
    "# Важно: метод remove удаляет только один элемент\n",
    "numbers = [ 10, 15, \"x\", 20, \"x\", 30]\n",
    "print(numbers)\n",
    "\n",
    "numbers.remove(\"x\")\n",
    "print(numbers)\n",
    "\n",
    "numbers.remove(\"x\")\n",
    "print(numbers)"
   ]
  },
  {
   "cell_type": "code",
   "execution_count": 22,
   "metadata": {},
   "outputs": [],
   "source": [
    "# получить документацию по методу\n",
    "numbers.remove?"
   ]
  },
  {
   "cell_type": "code",
   "execution_count": 23,
   "metadata": {},
   "outputs": [
    {
     "name": "stdout",
     "output_type": "stream",
     "text": [
      "[10, 15, 'x', 20, 'x', 30, 'x']\n",
      "[10, 15, 20, 30]\n"
     ]
    }
   ],
   "source": [
    "# Задание: написать код, который удалит все входжения элемента а не только одного\n",
    "numbers = [ 10, 15, \"x\", 20, \"x\", 30, \"x\"]\n",
    "print(numbers)\n",
    "\n",
    "# подсчитаем сколько раз удаляемый элемент встречается в списке\n",
    "count = 0\n",
    "for item in numbers:\n",
    "    if item == \"x\":\n",
    "        count += 1\n",
    "\n",
    "# вызовем метод remove необходимое количество раз\n",
    "for i in range(count):\n",
    "    numbers.remove(\"x\")\n",
    "    \n",
    "print(numbers)"
   ]
  },
  {
   "cell_type": "markdown",
   "metadata": {},
   "source": [
    "### Slicing. Продвинутое индексирование\n",
    "В Python есть возможность получать копию списка указав диапазон индексов через двоеточие. Такого нет в более старых языках программирования как Pascal или C"
   ]
  },
  {
   "cell_type": "code",
   "execution_count": 24,
   "metadata": {},
   "outputs": [
    {
     "name": "stdout",
     "output_type": "stream",
     "text": [
      "[10, 11, 12, 13, 14, 15, 16, 17, 18, 19]\n"
     ]
    }
   ],
   "source": [
    "numbers = [10, 11, 12, 13, 14, 15, 16, 17, 18, 19]\n",
    "print(numbers)"
   ]
  },
  {
   "cell_type": "code",
   "execution_count": 25,
   "metadata": {},
   "outputs": [
    {
     "name": "stdout",
     "output_type": "stream",
     "text": [
      "[10, 11, 12]\n",
      "[13, 14, 15]\n",
      "[10, 11, 12, 13, 14, 15, 16, 17]\n",
      "[11, 12, 13, 14, 15, 16, 17, 18]\n"
     ]
    }
   ],
   "source": [
    "# numbers[start : end]\n",
    "# Пояснить что диапазон индексов [start ... end) является полуоткрытым, т.е. end не входит\n",
    "print(numbers[0:3]) # возьмет элементы с индексами 0, 1, 2\n",
    "print(numbers[3:6]) # возьмет элементы с индексами 3, 4, 5\n",
    "\n",
    "print(numbers[0:-2]) # отбросит два последних элемента\n",
    "print(numbers[1:-1]) # отбросит первый и последний элемент"
   ]
  },
  {
   "cell_type": "code",
   "execution_count": 26,
   "metadata": {},
   "outputs": [
    {
     "name": "stdout",
     "output_type": "stream",
     "text": [
      "[10, 11, 12, 13, 14]\n",
      "[10, 11, 12, 13, 14]\n",
      "------\n",
      "[15, 16, 17, 18, 19]\n",
      "[15, 16, 17, 18, 19]\n"
     ]
    }
   ],
   "source": [
    "# в записи numbers[start : end] можно не указать start или end\n",
    "\n",
    "# если не указан start то Python подставит 0\n",
    "print(numbers[:5])\n",
    "print(numbers[0:5]) # эквивалентная запись\n",
    "\n",
    "print(\"------\")\n",
    "\n",
    "# если не указать end то Python подставит len(list)\n",
    "print(numbers[5:])\n",
    "print(numbers[5:len(numbers)]) # эквивалентная запись"
   ]
  },
  {
   "cell_type": "code",
   "execution_count": 27,
   "metadata": {},
   "outputs": [
    {
     "name": "stdout",
     "output_type": "stream",
     "text": [
      "[10, 11, 12, 13, 14, 15, 16, 17, 18, 19]\n",
      "[10, 11, 12, 13, 14, 15, 16, 17, 18, 19]\n"
     ]
    }
   ],
   "source": [
    "# Вообще можно не указывать ни начало ни конец\n",
    "print(numbers[:])\n",
    "print(numbers[0:len(numbers)])  # эквивалентна запись"
   ]
  },
  {
   "cell_type": "code",
   "execution_count": 28,
   "metadata": {},
   "outputs": [
    {
     "name": "stdout",
     "output_type": "stream",
     "text": [
      "[1, 2, 3]\n",
      "[1, 2, 3, 'LOL']\n"
     ]
    }
   ],
   "source": [
    "# Задание: подумать зачем может пригодиться запись numbres[:] ?\n",
    "# Ответ: продвинутое индексирования возвращает новый список, поэтому запись выше позволяет скопировать целый список\n",
    "\n",
    "list1 = [1, 2, 3]\n",
    "list2 = list1[:]    # создаем копию списка\n",
    "\n",
    "list2.append(\"LOL\") # первый список должен остаться неизменным\n",
    "print(list1)\n",
    "print(list2)"
   ]
  },
  {
   "cell_type": "markdown",
   "metadata": {},
   "source": [
    "## Строки как списки\n",
    "\n",
    "Строки можно рассматривать как списки символов"
   ]
  },
  {
   "cell_type": "code",
   "execution_count": 29,
   "metadata": {},
   "outputs": [
    {
     "name": "stdout",
     "output_type": "stream",
     "text": [
      "hello world\n"
     ]
    }
   ],
   "source": [
    "some_str = \"hello world\"\n",
    "print(some_str)"
   ]
  },
  {
   "cell_type": "code",
   "execution_count": 30,
   "metadata": {},
   "outputs": [
    {
     "name": "stdout",
     "output_type": "stream",
     "text": [
      "h\n",
      "e\n",
      "l\n",
      "l\n",
      "o\n",
      " \n",
      "w\n",
      "o\n",
      "r\n",
      "l\n",
      "d\n"
     ]
    }
   ],
   "source": [
    "# можно обойти строку посимвольно\n",
    "for char in some_str:\n",
    "    print(char)"
   ]
  },
  {
   "cell_type": "code",
   "execution_count": 31,
   "metadata": {},
   "outputs": [
    {
     "name": "stdout",
     "output_type": "stream",
     "text": [
      "h\n",
      "e\n",
      "l\n",
      "l\n",
      "o\n",
      " \n",
      "w\n",
      "o\n",
      "r\n",
      "l\n",
      "d\n"
     ]
    }
   ],
   "source": [
    "# можно обойти строку с помощью индексов\n",
    "for i in range(len(some_str)):\n",
    "    print(some_str[i])"
   ]
  },
  {
   "cell_type": "code",
   "execution_count": 32,
   "metadata": {},
   "outputs": [
    {
     "name": "stdout",
     "output_type": "stream",
     "text": [
      "hello\n",
      "world\n",
      "ello worl\n"
     ]
    }
   ],
   "source": [
    "# Можно также копировать подстроки через продвинутое индексирование\n",
    "print(some_str[0:5])\n",
    "print(some_str[6:])\n",
    "print(some_str[1:-1])"
   ]
  },
  {
   "cell_type": "markdown",
   "metadata": {},
   "source": [
    "## Dictionary. Словарь\n",
    "Словарь это такая структура данных, которая может хранить соответствия. В обычной жизни словарь используется для перевода слов с одного языка на другой. Словарь состоит из записей, где каждая запись состоит из двух частей: индекс и значение\n",
    "\n",
    "Пример микро словаря:\n",
    "* \"library\" –> \"библиотека\"\n",
    "* \"violence\" -> \"насилие\"\n",
    "* \"stupidity\" -> \"тупость\"\n",
    "\n",
    "В данном примере словарь состоит всего из трез записей.  \n",
    "Каждая запись состоит из двух частей: ключ(индекс) и значение  \n",
    "```\"library\" –> \"библиотека\"```\n",
    "\n",
    "`library` – это ключ/индекс записи  \n",
    "`библиотека` – это значение записи\n",
    "\n"
   ]
  },
  {
   "cell_type": "code",
   "execution_count": 33,
   "metadata": {},
   "outputs": [
    {
     "name": "stdout",
     "output_type": "stream",
     "text": [
      "{}\n"
     ]
    }
   ],
   "source": [
    "# создание пустого словаря\n",
    "# С задних парт ничего не видно, поэтому стоит проговорить что используем фигурные скобки для создания словаря\n",
    "empty_dict = {}\n",
    "print(empty_dict)"
   ]
  },
  {
   "cell_type": "code",
   "execution_count": 34,
   "metadata": {},
   "outputs": [
    {
     "name": "stdout",
     "output_type": "stream",
     "text": [
      "{'love': 'любовь', 'peace': 'мир', 'solidarity': 'солидарность'}\n"
     ]
    }
   ],
   "source": [
    "# создание словаря с несколькими записями\n",
    "# ключ и значение отделяются друг от друга двоеточием\n",
    "# записи отделяются друг от друга запятой\n",
    "small_dict = { \"love\":\"любовь\", \"peace\":\"мир\", \"solidarity\":\"солидарность\" }\n",
    "print(small_dict)"
   ]
  },
  {
   "cell_type": "code",
   "execution_count": 35,
   "metadata": {},
   "outputs": [
    {
     "name": "stdout",
     "output_type": "stream",
     "text": [
      "любовь\n",
      "мир\n",
      "солидарность\n"
     ]
    }
   ],
   "source": [
    "# получение значения через индекс\n",
    "print(small_dict[\"love\"])\n",
    "print(small_dict[\"peace\"])\n",
    "print(small_dict[\"solidarity\"])"
   ]
  },
  {
   "cell_type": "code",
   "execution_count": 36,
   "metadata": {},
   "outputs": [
    {
     "name": "stdout",
     "output_type": "stream",
     "text": [
      "{'love': 'любовь', 'peace': 'мир', 'solidarity': 'солидарность', 'education': 'обучение'}\n"
     ]
    }
   ],
   "source": [
    "# добавление нового значения в словарь\n",
    "small_dict[\"education\"] = \"обучение\" \n",
    "print(small_dict)"
   ]
  },
  {
   "cell_type": "code",
   "execution_count": 37,
   "metadata": {},
   "outputs": [
    {
     "name": "stdout",
     "output_type": "stream",
     "text": [
      "{'love': 'любовь', 'peace': 'мир', 'solidarity': 'солидарность', 'education': 'просвещение'}\n"
     ]
    }
   ],
   "source": [
    "# можно перезаписать значение\n",
    "small_dict[\"education\"] = \"просвещение\" \n",
    "print(small_dict)"
   ]
  },
  {
   "cell_type": "code",
   "execution_count": 38,
   "metadata": {},
   "outputs": [
    {
     "name": "stdout",
     "output_type": "stream",
     "text": [
      "{'love': 'любовь', 'peace': 'мир', 'solidarity': 'солидарность'}\n"
     ]
    }
   ],
   "source": [
    "# удалить запись из словаря по индексу\n",
    "small_dict.pop(\"education\")\n",
    "print(small_dict)"
   ]
  },
  {
   "cell_type": "code",
   "execution_count": 39,
   "metadata": {},
   "outputs": [
    {
     "name": "stdout",
     "output_type": "stream",
     "text": [
      "love -> любовь\n",
      "peace -> мир\n",
      "solidarity -> солидарность\n"
     ]
    }
   ],
   "source": [
    "# обойти все записи словаря с помощью цикла\n",
    "for k in small_dict:\n",
    "    print(k, \"->\", small_dict[k])"
   ]
  },
  {
   "cell_type": "code",
   "execution_count": 40,
   "metadata": {},
   "outputs": [
    {
     "name": "stdout",
     "output_type": "stream",
     "text": [
      "{'anna': 5, 'sergey': 4, 'artem': 4, 'rustam': 2}\n"
     ]
    }
   ],
   "source": [
    "# Значением записи словаря может быть любой тип, это не обязательно должна быть строка как в примере выше\n",
    "scores = { \"anna\": 5, \"sergey\": 4, \"artem\": 4, \"rustam\": 2 }\n",
    "print(scores)"
   ]
  },
  {
   "cell_type": "code",
   "execution_count": 41,
   "metadata": {},
   "outputs": [
    {
     "name": "stdout",
     "output_type": "stream",
     "text": [
      "{'anna': 5, 'sergey': 4, 'artem': 4, 'rustam': 2, 'boris': 3}\n"
     ]
    }
   ],
   "source": [
    "# вне зависимости от типа новые записи добавляются в словарь одинаково\n",
    "scores[\"boris\"] = 3\n",
    "print(scores)"
   ]
  },
  {
   "cell_type": "code",
   "execution_count": 42,
   "metadata": {},
   "outputs": [
    {
     "name": "stdout",
     "output_type": "stream",
     "text": [
      "{'anna': 5, 'sergey': 4, 'artem': 4, 'rustam': 2}\n"
     ]
    }
   ],
   "source": [
    "# удалить запись по ключу/индексу\n",
    "scores.pop(\"boris\")\n",
    "print(scores)"
   ]
  },
  {
   "cell_type": "code",
   "execution_count": 43,
   "metadata": {},
   "outputs": [
    {
     "name": "stdout",
     "output_type": "stream",
     "text": [
      "{100: 'Математический анализ', 101: 'Линейная алгебра', 205: 'Теория вероятности'}\n"
     ]
    }
   ],
   "source": [
    "# ключом может быть и число, т.е. это не обязательно должна быть строка как в предыдущих примерах\n",
    "# в примере ниже записи имеют числовой ключ(индекс) и строковое значение\n",
    "studies = { 100: \"Математический анализ\", 101: \"Линейная алгебра\", 205: \"Теория вероятности\"}\n",
    "print(studies)\n"
   ]
  },
  {
   "cell_type": "code",
   "execution_count": 44,
   "metadata": {},
   "outputs": [
    {
     "name": "stdout",
     "output_type": "stream",
     "text": [
      "{100: 'Математический анализ', 101: 'Линейная алгебра', 205: 'Теория вероятности', 407: 'Топология'}\n"
     ]
    }
   ],
   "source": [
    "# добавление элемента в словать\n",
    "studies[407] = \"Топология\"\n",
    "print(studies)"
   ]
  },
  {
   "cell_type": "code",
   "execution_count": 45,
   "metadata": {},
   "outputs": [
    {
     "name": "stdout",
     "output_type": "stream",
     "text": [
      "{100: 'Математический анализ', 101: 'Линейная алгебра', 205: 'Теория вероятности'}\n"
     ]
    }
   ],
   "source": [
    "# удаление записи по ключу(индексу)\n",
    "studies.pop(407)\n",
    "print(studies)"
   ]
  },
  {
   "cell_type": "code",
   "execution_count": 46,
   "metadata": {},
   "outputs": [
    {
     "name": "stdout",
     "output_type": "stream",
     "text": [
      "True\n",
      "True\n",
      "False\n"
     ]
    }
   ],
   "source": [
    "# проверка наличия ключа/индекса в словаре\n",
    "print(100 in studies)\n",
    "print(205 in studies)\n",
    "print(407 in studies) # этот индекс/ключ был удален раньше"
   ]
  },
  {
   "cell_type": "code",
   "execution_count": 47,
   "metadata": {},
   "outputs": [
    {
     "name": "stdout",
     "output_type": "stream",
     "text": [
      "{'a': 4, 'b': 4, 'c': 3}\n"
     ]
    }
   ],
   "source": [
    "# Задача: посчитать сколько раз символ всречается в строке\n",
    "# \"abbccc\" a:1, b:2, c:3\n",
    "# \"aababcbbacc\" a:4, b:4, c:3\n",
    "\n",
    "# Чтобы ребята смогли выполнить это задание относительно быстро (10-15мин) они должны понимать\n",
    "# * как создать пустой словарь\n",
    "# * понимать что именно будет хранится в словаре\n",
    "# * как проверить наличие ключа/индекса в словаре\n",
    "# * как получить сохраненное значение записи по ключу/индексу\n",
    "# * как обновить/переписать значение записи по ключу/индексу\n",
    "\n",
    "string = \"aababcbbacc\"\n",
    "\n",
    "# заведем пустой словарь, который будет хранить соотверствие \"символ\" -> \"сколько раз повторяется\"\n",
    "counts = {}\n",
    "\n",
    "for char in string:\n",
    "    # есть ли этот символ строки в словаре?\n",
    "    if char in counts:\n",
    "        # символ является ключом в нашем словаре => мы уже встречали этот символ раньше\n",
    "        # нужно взять сохраненное значение и увеличить его на 1\n",
    "        counts[char] = counts[char] + 1\n",
    "    else:\n",
    "        # этот символ отсутствует в словаре => мы всречаем этот символ впервые\n",
    "        counts[char] = 1\n",
    "\n",
    "print(counts)"
   ]
  },
  {
   "cell_type": "code",
   "execution_count": null,
   "metadata": {},
   "outputs": [],
   "source": []
  }
 ],
 "metadata": {
  "kernelspec": {
   "display_name": "Python 3",
   "language": "python",
   "name": "python3"
  },
  "language_info": {
   "codemirror_mode": {
    "name": "ipython",
    "version": 3
   },
   "file_extension": ".py",
   "mimetype": "text/x-python",
   "name": "python",
   "nbconvert_exporter": "python",
   "pygments_lexer": "ipython3",
   "version": "3.6.5"
  }
 },
 "nbformat": 4,
 "nbformat_minor": 2
}
