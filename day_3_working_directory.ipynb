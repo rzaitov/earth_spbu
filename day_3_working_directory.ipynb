{
 "cells": [
  {
   "cell_type": "code",
   "execution_count": 1,
   "metadata": {},
   "outputs": [],
   "source": [
    "# импортируем библиотеку, которая позволяет взаимодействовать с операционной системой\n",
    "import os"
   ]
  },
  {
   "cell_type": "code",
   "execution_count": 2,
   "metadata": {},
   "outputs": [
    {
     "data": {
      "text/plain": [
       "'/Users/rzaitov/Documents/Apps/sergey_malyshev/earth_spbu'"
      ]
     },
     "execution_count": 2,
     "metadata": {},
     "output_type": "execute_result"
    }
   ],
   "source": [
    "# получаем рабочую директорию текущего процесса, т.е. процесса который исполняет наш ноутбук\n",
    "# на Linux и Mac в качестве разделителя будет использовать символ `/`\n",
    "# на Windows в качестве разделителя используется спец.символ `\\`, поэтому он будет \"экранирован\" этим же спец.символом\n",
    "# на практике это означает что в Windows имена папок будут отделены двойным обратным слешем, т.е. '\\\\'\n",
    "os.getcwd()"
   ]
  },
  {
   "cell_type": "code",
   "execution_count": 8,
   "metadata": {},
   "outputs": [],
   "source": [
    "# Изменяем путь к текущей директории\n",
    "# На Windows это проще всего сделать через свойства папки, там будет путь который можно скопировать\n",
    "# Важно! На Windows '\\' необходимо заменить либо на '\\\\' или на '/'\n",
    "os.chdir('/Users/rzaitov/Downloads/day_3')"
   ]
  },
  {
   "cell_type": "code",
   "execution_count": 10,
   "metadata": {},
   "outputs": [
    {
     "data": {
      "text/html": [
       "<div>\n",
       "<style scoped>\n",
       "    .dataframe tbody tr th:only-of-type {\n",
       "        vertical-align: middle;\n",
       "    }\n",
       "\n",
       "    .dataframe tbody tr th {\n",
       "        vertical-align: top;\n",
       "    }\n",
       "\n",
       "    .dataframe thead th {\n",
       "        text-align: right;\n",
       "    }\n",
       "</style>\n",
       "<table border=\"1\" class=\"dataframe\">\n",
       "  <thead>\n",
       "    <tr style=\"text-align: right;\">\n",
       "      <th></th>\n",
       "      <th>Unnamed: 0</th>\n",
       "      <th>LATITUDE</th>\n",
       "      <th>LONGITUDE</th>\n",
       "      <th>ROCK TYPE</th>\n",
       "      <th>ROCK NAME</th>\n",
       "      <th>SIO2</th>\n",
       "      <th>NA2O</th>\n",
       "      <th>K2O</th>\n",
       "    </tr>\n",
       "  </thead>\n",
       "  <tbody>\n",
       "    <tr>\n",
       "      <th>0</th>\n",
       "      <td>0</td>\n",
       "      <td>19.3000</td>\n",
       "      <td>-155.500</td>\n",
       "      <td>IGNEOUS:VOLCANIC:MAFIC</td>\n",
       "      <td>BASALT</td>\n",
       "      <td>51.61</td>\n",
       "      <td>2.14</td>\n",
       "      <td>0.35</td>\n",
       "    </tr>\n",
       "    <tr>\n",
       "      <th>1</th>\n",
       "      <td>1</td>\n",
       "      <td>19.7408</td>\n",
       "      <td>-155.050</td>\n",
       "      <td>IGNEOUS:VOLCANIC:MAFIC</td>\n",
       "      <td>THOLEIITE</td>\n",
       "      <td>45.53</td>\n",
       "      <td>1.04</td>\n",
       "      <td>0.09</td>\n",
       "    </tr>\n",
       "    <tr>\n",
       "      <th>2</th>\n",
       "      <td>2</td>\n",
       "      <td>19.3768</td>\n",
       "      <td>-155.937</td>\n",
       "      <td>IGNEOUS:VOLCANIC:MAFIC</td>\n",
       "      <td>ALKALI BASALT</td>\n",
       "      <td>46.81</td>\n",
       "      <td>3.59</td>\n",
       "      <td>0.90</td>\n",
       "    </tr>\n",
       "    <tr>\n",
       "      <th>3</th>\n",
       "      <td>3</td>\n",
       "      <td>19.3000</td>\n",
       "      <td>-155.500</td>\n",
       "      <td>IGNEOUS:VOLCANIC:MAFIC</td>\n",
       "      <td>BASALT</td>\n",
       "      <td>51.68</td>\n",
       "      <td>2.38</td>\n",
       "      <td>0.38</td>\n",
       "    </tr>\n",
       "    <tr>\n",
       "      <th>4</th>\n",
       "      <td>4</td>\n",
       "      <td>18.6972</td>\n",
       "      <td>-155.771</td>\n",
       "      <td>IGNEOUS:VOLCANIC:MAFIC</td>\n",
       "      <td>PICRITE</td>\n",
       "      <td>47.33</td>\n",
       "      <td>1.38</td>\n",
       "      <td>0.22</td>\n",
       "    </tr>\n",
       "  </tbody>\n",
       "</table>\n",
       "</div>"
      ],
      "text/plain": [
       "   Unnamed: 0  LATITUDE  LONGITUDE               ROCK TYPE      ROCK NAME  \\\n",
       "0           0   19.3000   -155.500  IGNEOUS:VOLCANIC:MAFIC         BASALT   \n",
       "1           1   19.7408   -155.050  IGNEOUS:VOLCANIC:MAFIC      THOLEIITE   \n",
       "2           2   19.3768   -155.937  IGNEOUS:VOLCANIC:MAFIC  ALKALI BASALT   \n",
       "3           3   19.3000   -155.500  IGNEOUS:VOLCANIC:MAFIC         BASALT   \n",
       "4           4   18.6972   -155.771  IGNEOUS:VOLCANIC:MAFIC        PICRITE   \n",
       "\n",
       "    SIO2  NA2O   K2O  \n",
       "0  51.61  2.14  0.35  \n",
       "1  45.53  1.04  0.09  \n",
       "2  46.81  3.59  0.90  \n",
       "3  51.68  2.38  0.38  \n",
       "4  47.33  1.38  0.22  "
      ]
     },
     "execution_count": 10,
     "metadata": {},
     "output_type": "execute_result"
    }
   ],
   "source": [
    "# После этого открывать файлы, которые находятся в текущей директории, можно по имени\n",
    "# Пример ниже предполагает, что абсолютный(полный) путь у файла: '/Users/rzaitov/Downloads/day_3/small.csv'\n",
    "\n",
    "import pandas as pd\n",
    "data = pd.read_csv('small.csv', sep=\",\")\n",
    "data.head()"
   ]
  },
  {
   "cell_type": "markdown",
   "metadata": {},
   "source": [
    "Все то, что описано в этом ноутбуке можно узнать из короткого [видео](https://www.youtube.com/watch?v=swl7pFoZ4vc), в котором молодой человек с приятным индийским акцентом объясняет на английском языке."
   ]
  },
  {
   "cell_type": "code",
   "execution_count": null,
   "metadata": {},
   "outputs": [],
   "source": []
  }
 ],
 "metadata": {
  "kernelspec": {
   "display_name": "Python 3",
   "language": "python",
   "name": "python3"
  },
  "language_info": {
   "codemirror_mode": {
    "name": "ipython",
    "version": 3
   },
   "file_extension": ".py",
   "mimetype": "text/x-python",
   "name": "python",
   "nbconvert_exporter": "python",
   "pygments_lexer": "ipython3",
   "version": "3.6.5"
  }
 },
 "nbformat": 4,
 "nbformat_minor": 2
}
