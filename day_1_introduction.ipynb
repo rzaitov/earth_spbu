{
 "cells": [
  {
   "cell_type": "code",
   "execution_count": 1,
   "metadata": {},
   "outputs": [],
   "source": [
    "# Рассказываем что такое переменная в программе:\n",
    "# это имя, которое может иметь какое-либо значение\n",
    "# ниже пример переменной у которой имя name, а значение строковый литерал \"Rustam\"\n",
    "name = \"Rustam\""
   ]
  },
  {
   "cell_type": "code",
   "execution_count": 2,
   "metadata": {},
   "outputs": [
    {
     "name": "stdout",
     "output_type": "stream",
     "text": [
      "Rustam\n"
     ]
    }
   ],
   "source": [
    "# функция print печатает значение переменной\n",
    "print(name)"
   ]
  },
  {
   "cell_type": "code",
   "execution_count": 3,
   "metadata": {},
   "outputs": [],
   "source": [
    "# Показываем отличие от других языков программирования с которыми могут быть знакомы ребята\n",
    "# Все переменные являются динамическими, т.е. могут менять свой тип\n",
    "# Раньше name имел тип \"string\", т.е. строка, а теперь это \"number\" т.е. число\n",
    "# Такое невозможно в языках со статической типизацией как Pascal или C где программист обязан объявить тип переменной\n",
    "name = 33"
   ]
  },
  {
   "cell_type": "code",
   "execution_count": 4,
   "metadata": {},
   "outputs": [
    {
     "name": "stdout",
     "output_type": "stream",
     "text": [
      "33\n"
     ]
    }
   ],
   "source": [
    "# Видим что Python спокойно согласился с изменением типа переменной\n",
    "print(name)"
   ]
  },
  {
   "cell_type": "code",
   "execution_count": 5,
   "metadata": {},
   "outputs": [],
   "source": [
    "# Простейшие операции с числами\n",
    "num1 = 30        # Заводим новую переменную num1, которая будет иметь числовое значение 30\n",
    "num2 = num1 + 5  # Используем оператор сложения"
   ]
  },
  {
   "cell_type": "code",
   "execution_count": 6,
   "metadata": {},
   "outputs": [
    {
     "name": "stdout",
     "output_type": "stream",
     "text": [
      "35\n"
     ]
    }
   ],
   "source": [
    "# Смотрим результат\n",
    "print(num2)"
   ]
  },
  {
   "cell_type": "code",
   "execution_count": 7,
   "metadata": {},
   "outputs": [
    {
     "name": "stdout",
     "output_type": "stream",
     "text": [
      "900\n"
     ]
    }
   ],
   "source": [
    "# Чуть интереснее пример – возведение в степень\n",
    "num3 = num1 ** 2\n",
    "print(num3)"
   ]
  },
  {
   "cell_type": "code",
   "execution_count": 8,
   "metadata": {},
   "outputs": [
    {
     "name": "stdout",
     "output_type": "stream",
     "text": [
      "Hello World\n"
     ]
    }
   ],
   "source": [
    "# Пример операций со строками\n",
    "str1 = \"Hello\"\n",
    "str2 = \"World\"\n",
    "\n",
    "# Вопрос: что будет выведено?\n",
    "# Пусть подумают что делает оператор + со строками\n",
    "# Если подумать то в целом, поведение кажется логичным\n",
    "print(str1 + \" \" + str2)"
   ]
  },
  {
   "cell_type": "code",
   "execution_count": 9,
   "metadata": {},
   "outputs": [
    {
     "ename": "TypeError",
     "evalue": "must be str, not int",
     "output_type": "error",
     "traceback": [
      "\u001b[0;31m---------------------------------------------------------------------------\u001b[0m",
      "\u001b[0;31mTypeError\u001b[0m                                 Traceback (most recent call last)",
      "\u001b[0;32m<ipython-input-9-0de1b4c0eca4>\u001b[0m in \u001b[0;36m<module>\u001b[0;34m()\u001b[0m\n\u001b[1;32m      4\u001b[0m \u001b[0;31m# Ошибка? – правильный ответ\u001b[0m\u001b[0;34m\u001b[0m\u001b[0;34m\u001b[0m\u001b[0m\n\u001b[1;32m      5\u001b[0m \u001b[0;31m# Преобразование числа к строковому типу с последующим сложением строк?\u001b[0m\u001b[0;34m\u001b[0m\u001b[0;34m\u001b[0m\u001b[0m\n\u001b[0;32m----> 6\u001b[0;31m \u001b[0mprint\u001b[0m\u001b[0;34m(\u001b[0m\u001b[0mstr1\u001b[0m \u001b[0;34m+\u001b[0m \u001b[0mnum1\u001b[0m\u001b[0;34m)\u001b[0m\u001b[0;34m\u001b[0m\u001b[0m\n\u001b[0m",
      "\u001b[0;31mTypeError\u001b[0m: must be str, not int"
     ]
    }
   ],
   "source": [
    "# Мы видели что сложение работает как с числами, так и со строками\n",
    "# А сработает ли оно если операнды будут строка и число?\n",
    "# Какие возможны результаты?\n",
    "# Ошибка? – правильный ответ\n",
    "# Преобразование числа к строковому типу с последующим сложением строк?\n",
    "print(str1 + num1)"
   ]
  },
  {
   "cell_type": "code",
   "execution_count": 10,
   "metadata": {},
   "outputs": [
    {
     "name": "stdout",
     "output_type": "stream",
     "text": [
      "Hello30\n"
     ]
    }
   ],
   "source": [
    "# Ошибку выше можно исправить если явно преобразовать число в строку\n",
    "# метод str примет число и вернет его строковое представление, после чего будут сложены две строки\n",
    "print(str1 + str(num1))"
   ]
  },
  {
   "cell_type": "code",
   "execution_count": 11,
   "metadata": {},
   "outputs": [
    {
     "name": "stdout",
     "output_type": "stream",
     "text": [
      "False\n"
     ]
    }
   ],
   "source": [
    "# Знакомство с типом boolean\n",
    "# Переменные этого типа могут иметь только два значения True или False\n",
    "# Этот тип используется в условных конструкциях (if)\n",
    "bool1 = False\n",
    "print(bool1)"
   ]
  },
  {
   "cell_type": "code",
   "execution_count": 12,
   "metadata": {},
   "outputs": [
    {
     "name": "stdout",
     "output_type": "stream",
     "text": [
      "Do it!\n",
      "???\n"
     ]
    }
   ],
   "source": [
    "# Ниже пример условного оператора if\n",
    "# Сразу бросается в глаза отличие от других языков программирования\n",
    "# вложенность регулируется отступами, а не фигурными скобками как в языке C\n",
    "# if в языке C выглядел бы так https://www.programiz.com/c-programming/c-if-else-statement\n",
    "# Обратить внимание что вложенность следует после двоеточия\n",
    "condition = True\n",
    "if condition:\n",
    "    print(\"Do it!\")\n",
    "print(\"???\")"
   ]
  },
  {
   "cell_type": "code",
   "execution_count": 13,
   "metadata": {},
   "outputs": [
    {
     "name": "stdout",
     "output_type": "stream",
     "text": [
      "???\n"
     ]
    }
   ],
   "source": [
    "# Тот же пример только условие \"ложно\", т.е. не выполняется\n",
    "condition = False\n",
    "if condition:\n",
    "    print(\"Do it!\")\n",
    "print(\"???\")"
   ]
  },
  {
   "cell_type": "code",
   "execution_count": 14,
   "metadata": {},
   "outputs": [
    {
     "name": "stdout",
     "output_type": "stream",
     "text": [
      "???\n"
     ]
    }
   ],
   "source": [
    "# Следует еще раз обратить внимание на отступы, которые релугируют вложенность\n",
    "# Видят ли ребята отличие между следующими варианами\n",
    "\n",
    "# Вариант 1\n",
    "if condition:\n",
    "    print(\"Do it!\")\n",
    "    print(\"???\")\n",
    "\n",
    "# Вариант 1\n",
    "if condition:\n",
    "    print(\"Do it!\")\n",
    "print(\"???\")\n",
    "\n",
    "# Во втором варианте print(\"???\") НЕ является частью конструкции if"
   ]
  },
  {
   "cell_type": "code",
   "execution_count": 15,
   "metadata": {},
   "outputs": [
    {
     "name": "stdout",
     "output_type": "stream",
     "text": [
      "0\n",
      "0\n",
      "1\n",
      "2\n",
      "2\n",
      "4\n",
      "3\n",
      "6\n",
      "4\n",
      "8\n",
      "5\n",
      "10\n",
      "6\n",
      "12\n",
      "7\n",
      "14\n",
      "8\n",
      "16\n",
      "9\n",
      "18\n",
      "Цикл окончен\n"
     ]
    }
   ],
   "source": [
    "# Цикл позволяет выполнить кусок кода несколько раз\n",
    "# Цикл тоже является вложенной конструкцией – см на наличие двоеточия и отступа у тела цикла\n",
    "\n",
    "# В этом цикле объявлется переменная i, т.е. ее НЕ нужно объявлять заранее\n",
    "# В цикле объявленная переменная будет менять свое значение от 0 до 9. Почему?\n",
    "# Потому что range(10) возвращает диапазон (можно считать что массив) чисел [0, 1, 2, 3, 4, 5, 6, 7, 8, 9]\n",
    "# Объявленная переменная на каждой итерации цикла примет значение из диапазона\n",
    "\n",
    "# Перед выполнением пусть подумают что будет напечатано\n",
    "for i in range(10):\n",
    "    # Тело цикла\n",
    "    print(i)\n",
    "    print(2*i)\n",
    "\n",
    "print(\"Цикл окончен\") # Эта инструкция к циклу не отностися и выполнится один раз после выполнения цикла"
   ]
  },
  {
   "cell_type": "code",
   "execution_count": 16,
   "metadata": {},
   "outputs": [],
   "source": [
    "# В Python много бибилотек, то очень скоро нам портребуется именно random\n",
    "# Ниже как импортируются библиотеки: import <lib_name>\n",
    "# random – встроенная библиотека которая устанавливается при установке Python\n",
    "# другие библиотеки нужно устанавливать самостоятельно\n",
    "import random"
   ]
  },
  {
   "cell_type": "code",
   "execution_count": 17,
   "metadata": {},
   "outputs": [
    {
     "name": "stdout",
     "output_type": "stream",
     "text": [
      "0.11459007294397394\n"
     ]
    }
   ],
   "source": [
    "# У библиотеки random много методов.\n",
    "# Получить подсказку по этим методам можно через random.? после чего нажать клавишу Tab\n",
    "\n",
    "# Рассказать что такое равномерное распределение вероятности\n",
    "# Сказать что много разных бывает распределений\n",
    "\n",
    "# Код ниже выполнить несколько раз, чтобы убедиться что значение каждый раз новое\n",
    "v = random.uniform(-1, 1)\n",
    "print(v)"
   ]
  },
  {
   "cell_type": "code",
   "execution_count": null,
   "metadata": {},
   "outputs": [],
   "source": []
  }
 ],
 "metadata": {
  "kernelspec": {
   "display_name": "Python 3",
   "language": "python",
   "name": "python3"
  },
  "language_info": {
   "codemirror_mode": {
    "name": "ipython",
    "version": 3
   },
   "file_extension": ".py",
   "mimetype": "text/x-python",
   "name": "python",
   "nbconvert_exporter": "python",
   "pygments_lexer": "ipython3",
   "version": "3.6.5"
  }
 },
 "nbformat": 4,
 "nbformat_minor": 4
}
