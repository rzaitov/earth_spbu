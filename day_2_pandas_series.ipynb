{
 "cells": [
  {
   "cell_type": "markdown",
   "metadata": {},
   "source": [
    "## Pandas. Series"
   ]
  },
  {
   "cell_type": "markdown",
   "metadata": {},
   "source": [
    "Для работы с табличными данными чаще всего используют библиотеку pandas"
   ]
  },
  {
   "cell_type": "code",
   "execution_count": 1,
   "metadata": {},
   "outputs": [],
   "source": [
    "# pandas – это модуль/библиотека для работы с табличными данными\n",
    "import pandas as pd"
   ]
  },
  {
   "cell_type": "code",
   "execution_count": 2,
   "metadata": {},
   "outputs": [],
   "source": [
    "# Series – это тип, который определен в библиотеке pandas,\n",
    "# который позволяет сохранять/обрабатывать одномерную последовательность данных\n",
    "# К элементам последовательности можно получить доступ с помощью индекса\n",
    "\n",
    "# Series – это тип, который очень похож на встроенный тип list и dictionary одновременно\n",
    "# В таблицах Series – это колонка с данными"
   ]
  },
  {
   "cell_type": "code",
   "execution_count": 3,
   "metadata": {},
   "outputs": [
    {
     "name": "stdout",
     "output_type": "stream",
     "text": [
      "0     artem\n",
      "1    sergey\n",
      "2    rustam\n",
      "3      anna\n",
      "dtype: object\n"
     ]
    }
   ],
   "source": [
    "# пример создания Series из списка\n",
    "\n",
    "# создаем список\n",
    "students = [\"artem\", \"sergey\", \"rustam\", \"anna\"]\n",
    "\n",
    "# конвертируем список в Series\n",
    "seq = pd.Series(students)\n",
    "print(seq)\n",
    "\n",
    "# Пояснить почему Series – это всего одна колонка, но мы тут видим сразу две колонки\n",
    "# Нужно обратить внимание что вторая колонка – это и есть данные, а первая колонка это индекс\n",
    "# Указать, что это по факту ничем не отличается от списка расмотренного ранее"
   ]
  },
  {
   "cell_type": "code",
   "execution_count": 4,
   "metadata": {},
   "outputs": [
    {
     "name": "stdout",
     "output_type": "stream",
     "text": [
      "artem\n",
      "sergey\n"
     ]
    }
   ],
   "source": [
    "# видно, что Series визуализируется двумя колонками, где первая колонка это индекс, а вторая колонка хранит значения\n",
    "# можно получить доступ к значению через индекс\n",
    "print(seq[0])\n",
    "print(seq[1])"
   ]
  },
  {
   "cell_type": "code",
   "execution_count": 5,
   "metadata": {},
   "outputs": [
    {
     "data": {
      "text/plain": [
       "0    10\n",
       "1    20\n",
       "2    30\n",
       "3    40\n",
       "dtype: int64"
      ]
     },
     "execution_count": 5,
     "metadata": {},
     "output_type": "execute_result"
    }
   ],
   "source": [
    "# Series можно создавать не только из списка строк, но и из списка чисел\n",
    "# слева – это инекс, справа – данные/значения\n",
    "pd.Series([10, 20, 30, 40])"
   ]
  },
  {
   "cell_type": "code",
   "execution_count": 6,
   "metadata": {},
   "outputs": [
    {
     "data": {
      "text/plain": [
       "0    1.0\n",
       "1    2.0\n",
       "2    3.0\n",
       "3    NaN\n",
       "4    5.0\n",
       "dtype: float64"
      ]
     },
     "execution_count": 6,
     "metadata": {},
     "output_type": "execute_result"
    }
   ],
   "source": [
    "# В последовательности могут быть пропуски, т.е. отсутствующие значения\n",
    "# None – это специальное значение, которое является отсутствующим значением\n",
    "# Прямым аналогом является пустой укзатель nil в Pascal или null в C\n",
    "pd.Series([1, 2, 3, None, 5])"
   ]
  },
  {
   "cell_type": "code",
   "execution_count": 7,
   "metadata": {},
   "outputs": [],
   "source": [
    "# Нужно обратить внимание на значение dtype. \n",
    "# Во всех примерах выше они были разные\n",
    "# В двух последних примерах это список из чисел, где\n",
    "# в одном случае мы получили последовательность с типом int64, а в другом с типом float64.\n",
    "# Вопрос: почему так получилось?\n",
    "# Ответ будет понятен только тем, кто не прогуливал программирование в школе:\n",
    "# тип int64 – это тип который хранит только целые числа и размер такого хранилища 64 бита\n",
    "# тип int64 не предусматривает хранение \"не числа\", а float64 может хранить число со значением NaN – not a number\n",
    "\n",
    "# Вывод: если вы ожидали, что в колонке будут только целые числа, но получили тип float64, то скорее всего там есть отсутствующие значения"
   ]
  },
  {
   "cell_type": "code",
   "execution_count": 8,
   "metadata": {},
   "outputs": [
    {
     "name": "stdout",
     "output_type": "stream",
     "text": [
      "russia     moscow\n",
      "france      paris\n",
      "ukraine      kyiv\n",
      "dtype: object\n"
     ]
    }
   ],
   "source": [
    "# Создание Series из словаря\n",
    "data = { \"russia\": \"moscow\", \"france\": \"paris\", \"ukraine\": \"kyiv\" }\n",
    "capitals = pd.Series(data)\n",
    "print(capitals)\n",
    "\n",
    "# Обратить внимание на индекс. Тут индекс это строки, которые были ключами словаря"
   ]
  },
  {
   "cell_type": "code",
   "execution_count": 9,
   "metadata": {},
   "outputs": [
    {
     "data": {
      "text/plain": [
       "Index(['russia', 'france', 'ukraine'], dtype='object')"
      ]
     },
     "execution_count": 9,
     "metadata": {},
     "output_type": "execute_result"
    }
   ],
   "source": [
    "# Получить индекс в явном виде\n",
    "capitals.index"
   ]
  },
  {
   "cell_type": "markdown",
   "metadata": {},
   "source": [
    "## Использование индекса для доступа к элементу"
   ]
  },
  {
   "cell_type": "code",
   "execution_count": 10,
   "metadata": {},
   "outputs": [
    {
     "name": "stdout",
     "output_type": "stream",
     "text": [
      "moscow\n",
      "paris\n",
      "kyiv\n"
     ]
    }
   ],
   "source": [
    "# доступ через index location\n",
    "# Series похож на list\n",
    "print(capitals.iloc[0])\n",
    "print(capitals.iloc[1])\n",
    "print(capitals.iloc[2])\n",
    "\n",
    "# эквивалентная запись\n",
    "# print(capitals[0])\n",
    "# print(capitals[1])\n",
    "# print(capitals[2])"
   ]
  },
  {
   "cell_type": "code",
   "execution_count": 11,
   "metadata": {},
   "outputs": [
    {
     "name": "stdout",
     "output_type": "stream",
     "text": [
      "moscow\n",
      "paris\n",
      "kyiv\n"
     ]
    }
   ],
   "source": [
    "# доступ через index label\n",
    "# Series похож на dictionary\n",
    "print(capitals.loc[\"russia\"])\n",
    "print(capitals.loc[\"france\"])\n",
    "print(capitals.loc[\"ukraine\"])\n",
    "\n",
    "# эквивалентная запись\n",
    "# print(capitals[\"russia\"])\n",
    "# print(capitals[\"france\"])\n",
    "# print(capitals[\"ukraine\"])"
   ]
  },
  {
   "cell_type": "code",
   "execution_count": 12,
   "metadata": {},
   "outputs": [
    {
     "name": "stdout",
     "output_type": "stream",
     "text": [
      "100    Математический анализ\n",
      "101         Линейная алгебра\n",
      "102       Теория вероятности\n",
      "dtype: object\n"
     ]
    }
   ],
   "source": [
    "# Вопрос: зачем использовать iloc или loc когда можно использовать []\n",
    "# Ответ: может быть ситуация, когда index label тоже будет числом\n",
    "#        что в этом случае должен использовать pandas iloc или loc?\n",
    "\n",
    "classes = {100: \"Математический анализ\", 101: \"Линейная алгебра\", 102: \"Теория вероятности\"}\n",
    "seq = pd.Series(classes)\n",
    "\n",
    "print(seq)\n",
    "\n",
    "# Как pandas будет интерпретировать запись ниже?\n",
    "# print(seq[0])\n",
    "# print(seq.iloc[0])\n",
    "# print(seq.loc[0])"
   ]
  },
  {
   "cell_type": "code",
   "execution_count": 13,
   "metadata": {},
   "outputs": [
    {
     "name": "stdout",
     "output_type": "stream",
     "text": [
      "49.92695\n"
     ]
    }
   ],
   "source": [
    "# Задание\n",
    "# Создать Series из 100000 случайных целых чисел от 0 до 100, после чего найти среднее арифметическое значение\n",
    "N = 100000\n",
    "\n",
    "# Ожидаем получить от студентов следующий код\n",
    "import random\n",
    "data = [] # создаем пустой список\n",
    "for i in range(N):\n",
    "    data.append(random.randint(0, 100))\n",
    "\n",
    "# конвертируем список в Series\n",
    "seq = pd.Series(data)\n",
    "\n",
    "total = 0\n",
    "for item in seq:\n",
    "    total += item\n",
    "\n",
    "print(total/len(seq))"
   ]
  },
  {
   "cell_type": "code",
   "execution_count": 14,
   "metadata": {},
   "outputs": [
    {
     "data": {
      "text/plain": [
       "0    81\n",
       "1    66\n",
       "2     1\n",
       "3    43\n",
       "4    61\n",
       "dtype: int64"
      ]
     },
     "execution_count": 14,
     "metadata": {},
     "output_type": "execute_result"
    }
   ],
   "source": [
    "# У типа Series есть удобный метод head, который выводит несколько первых значений из соследовательности\n",
    "# У списка или словаря этого метода нет.\n",
    "seq.head()\n",
    "# seq.head(10)"
   ]
  },
  {
   "cell_type": "code",
   "execution_count": 15,
   "metadata": {},
   "outputs": [
    {
     "data": {
      "text/plain": [
       "49.48928"
      ]
     },
     "execution_count": 15,
     "metadata": {},
     "output_type": "execute_result"
    }
   ],
   "source": [
    "# Перепишем код выше, чтобы он использовал только библиотечные функции\n",
    "import numpy as np # библиотека численных методов\n",
    "data = np.random.randint(0, 100, N)\n",
    "seq = pd.Series(data)\n",
    "np.sum(seq)/len(seq)\n",
    "\n",
    "# Какой код предпочтительнее и почему?\n",
    "# На мой личный взгляд второй вариант короче, поэтому мне нравится больше\n",
    "# К тому же мы используем библиотечные функции => пишем меньше кода => не создаем багов\n",
    "# Аргументы все еще не убедительны? Ок. давайте измерять производительность"
   ]
  },
  {
   "cell_type": "code",
   "execution_count": 16,
   "metadata": {},
   "outputs": [
    {
     "name": "stdout",
     "output_type": "stream",
     "text": [
      "7.75 ms ± 234 µs per loop (mean ± std. dev. of 7 runs, 100 loops each)\n"
     ]
    }
   ],
   "source": [
    "%%timeit -n 100  # запустим код ниже 100 раз и засечем время выполнения\n",
    "\n",
    "total = 0\n",
    "for item in seq:\n",
    "    total += item\n",
    "total/len(seq)"
   ]
  },
  {
   "cell_type": "code",
   "execution_count": 17,
   "metadata": {},
   "outputs": [
    {
     "name": "stdout",
     "output_type": "stream",
     "text": [
      "519 µs ± 99.8 µs per loop (mean ± std. dev. of 7 runs, 100 loops each)\n"
     ]
    }
   ],
   "source": [
    "%%timeit -n 100\n",
    "np.sum(seq)/len(seq)"
   ]
  },
  {
   "cell_type": "code",
   "execution_count": null,
   "metadata": {},
   "outputs": [],
   "source": []
  }
 ],
 "metadata": {
  "kernelspec": {
   "display_name": "Python 3",
   "language": "python",
   "name": "python3"
  },
  "language_info": {
   "codemirror_mode": {
    "name": "ipython",
    "version": 3
   },
   "file_extension": ".py",
   "mimetype": "text/x-python",
   "name": "python",
   "nbconvert_exporter": "python",
   "pygments_lexer": "ipython3",
   "version": "3.6.5"
  }
 },
 "nbformat": 4,
 "nbformat_minor": 2
}
