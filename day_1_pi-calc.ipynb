{
 "cells": [
  {
   "cell_type": "code",
   "execution_count": 5,
   "metadata": {},
   "outputs": [
    {
     "name": "stdout",
     "output_type": "stream",
     "text": [
      "785014 1000000\n",
      "3.140056\n"
     ]
    }
   ],
   "source": [
    "# Импортируем бибилиотеку\n",
    "import random\n",
    "\n",
    "# Количество итераций в нашей симуляции\n",
    "# Начать можно с 1000 а что-то полезное начинается с 1000000\n",
    "# С количеством нулей лучше не жестить, т.к. добавление нуля увеличивает время вычислений в 10 раз\n",
    "n_trials = 1000\n",
    "\n",
    "# Заводим переменную в которой будем хранить количество попаданий в круг\n",
    "n_hits = 0\n",
    "\n",
    "# В цикле \"метаем дротик\"\n",
    "for i in range(n_trials):\n",
    "    # Генерим координаты попадания дротика\n",
    "    x = random.uniform(-1, 1)\n",
    "    y = random.uniform(-1, 1)\n",
    "    # Вычисляем попали в круг или нет\n",
    "    # будет иметь значение True если попали и False если не попали\n",
    "    bingo = x**2 + y**2 < 1\n",
    "    if bingo:\n",
    "        n_hits += 1\n",
    "print(n_hits, n_trials)\n",
    "print(4 * n_hits / n_trials)"
   ]
  },
  {
   "cell_type": "code",
   "execution_count": null,
   "metadata": {},
   "outputs": [],
   "source": []
  }
 ],
 "metadata": {
  "kernelspec": {
   "display_name": "Python 3",
   "language": "python",
   "name": "python3"
  },
  "language_info": {
   "codemirror_mode": {
    "name": "ipython",
    "version": 3
   },
   "file_extension": ".py",
   "mimetype": "text/x-python",
   "name": "python",
   "nbconvert_exporter": "python",
   "pygments_lexer": "ipython3",
   "version": "3.6.5"
  }
 },
 "nbformat": 4,
 "nbformat_minor": 4
}
