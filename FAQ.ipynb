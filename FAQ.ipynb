{
 "cells": [
  {
   "cell_type": "markdown",
   "metadata": {},
   "source": [
    "## Получение данных от пользователя\n",
    "\n",
    "В случае если необходимо получить данные от пользователя, например чтобы пользователь предоставил программе какой-то параметр, то можно воспользоваться функцией `input`"
   ]
  },
  {
   "cell_type": "code",
   "execution_count": 4,
   "metadata": {},
   "outputs": [
    {
     "name": "stdout",
     "output_type": "stream",
     "text": [
      "Валера, настало твое время:123\n",
      "123 <class 'str'>\n"
     ]
    }
   ],
   "source": [
    "# Выполните эту ячейку и увидите, что ноутбук запросит у вас ввод\n",
    "user_input = input(\"Валера, настало твое время:\")\n",
    "print(user_input, type(user_input))\n",
    "\n",
    "# Важно обратить внимание, что переменная user_input будет содержать строку, даже в том случае если пользователь ввел число"
   ]
  },
  {
   "cell_type": "code",
   "execution_count": 9,
   "metadata": {},
   "outputs": [
    {
     "name": "stdout",
     "output_type": "stream",
     "text": [
      "Введите целое число:123\n",
      "123 <class 'int'>\n"
     ]
    }
   ],
   "source": [
    "# Если от пользователя требуется ввод числа, то нужно будет сконвертировать строковое представление в число\n",
    "user_input = input(\"Введите целое число:\")\n",
    "user_int = int(user_input)\n",
    "\n",
    "print(user_int, type(user_int))\n",
    "\n",
    "# если пользователь введет не целое число, а мы воспользуемся методом int то получим ошибку\n",
    "# Задание: проверить что получится если ввести дробное число, например, 123.5"
   ]
  },
  {
   "cell_type": "code",
   "execution_count": 10,
   "metadata": {},
   "outputs": [
    {
     "name": "stdout",
     "output_type": "stream",
     "text": [
      "Введите число:123.5\n",
      "123.5 <class 'float'>\n"
     ]
    }
   ],
   "source": [
    "# Можно конвертировать строку с помощью метода float\n",
    "user_input = input(\"Введите число:\")\n",
    "user_float = float(user_input)\n",
    "\n",
    "print(user_float, type(user_float))"
   ]
  },
  {
   "cell_type": "code",
   "execution_count": null,
   "metadata": {},
   "outputs": [],
   "source": []
  }
 ],
 "metadata": {
  "kernelspec": {
   "display_name": "Python 3",
   "language": "python",
   "name": "python3"
  },
  "language_info": {
   "codemirror_mode": {
    "name": "ipython",
    "version": 3
   },
   "file_extension": ".py",
   "mimetype": "text/x-python",
   "name": "python",
   "nbconvert_exporter": "python",
   "pygments_lexer": "ipython3",
   "version": "3.6.5"
  }
 },
 "nbformat": 4,
 "nbformat_minor": 2
}
